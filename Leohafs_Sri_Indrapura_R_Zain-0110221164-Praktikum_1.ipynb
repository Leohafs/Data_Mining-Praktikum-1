{
  "nbformat": 4,
  "nbformat_minor": 0,
  "metadata": {
    "colab": {
      "provenance": []
    },
    "kernelspec": {
      "name": "python3",
      "display_name": "Python 3"
    },
    "language_info": {
      "name": "python"
    }
  },
  "cells": [
    {
      "cell_type": "code",
      "execution_count": null,
      "metadata": {
        "id": "z-teN1evMixH",
        "colab": {
          "base_uri": "https://localhost:8080/"
        },
        "outputId": "65f19182-05a8-40b8-c78f-d14af4db943c"
      },
      "outputs": [
        {
          "output_type": "stream",
          "name": "stdout",
          "text": [
            "Object Creation:\n",
            "Series:\n",
            "0    1.0\n",
            "1    3.0\n",
            "2    5.0\n",
            "3    NaN\n",
            "4    6.0\n",
            "5    8.0\n",
            "dtype: float64\n",
            "\n",
            "DataFrame:\n",
            "                   A         B         C         D\n",
            "2023-10-01 -1.153008  0.357651  0.858009 -1.045246\n",
            "2023-10-02  0.310892 -0.529373 -0.552981 -0.977189\n",
            "2023-10-03 -1.197802 -0.993879 -1.043120  0.189995\n",
            "2023-10-04  1.900781 -2.239364 -0.388517  0.859291\n",
            "2023-10-05 -0.082422  0.765287  0.540397  1.002408\n",
            "2023-10-06  1.476036 -0.521376  0.165579  1.382770\n",
            "==================================================\n"
          ]
        }
      ],
      "source": [
        "import pandas as pd\n",
        "import numpy as np\n",
        "\n",
        "# Object Creation\n",
        "s = pd.Series([1, 3, 5, np.nan, 6, 8])\n",
        "dates = pd.date_range('2023-10-01', periods=6)\n",
        "df = pd.DataFrame(np.random.randn(6, 4), index=dates, columns=list('ABCD'))\n",
        "\n",
        "print(\"Object Creation:\")\n",
        "print(\"Series:\")\n",
        "print(s)\n",
        "print(\"\\nDataFrame:\")\n",
        "print(df)\n",
        "print(\"=\"*50)"
      ]
    },
    {
      "cell_type": "code",
      "source": [
        "# Viewing Data\n",
        "print(\"Viewing Data:\")\n",
        "print(\"First 3 rows:\")\n",
        "print(df.head(3))\n",
        "print(\"\\nLast 2 rows:\")\n",
        "print(df.tail(2))\n",
        "print(\"\\nIndex and Columns:\")\n",
        "print(df.index)\n",
        "print(df.columns)\n",
        "print(\"=\"*40)"
      ],
      "metadata": {
        "colab": {
          "base_uri": "https://localhost:8080/"
        },
        "id": "untOAyygPx2L",
        "outputId": "9aa7642c-942c-47db-d137-04fe46ad0d30"
      },
      "execution_count": null,
      "outputs": [
        {
          "output_type": "stream",
          "name": "stdout",
          "text": [
            "Viewing Data:\n",
            "First 3 rows:\n",
            "                   A         B         C         D\n",
            "2023-10-01 -1.153008  0.357651  0.858009 -1.045246\n",
            "2023-10-02  0.310892 -0.529373 -0.552981 -0.977189\n",
            "2023-10-03 -1.197802 -0.993879 -1.043120  0.189995\n",
            "\n",
            "Last 2 rows:\n",
            "                   A         B         C         D\n",
            "2023-10-05 -0.082422  0.765287  0.540397  1.002408\n",
            "2023-10-06  1.476036 -0.521376  0.165579  1.382770\n",
            "\n",
            "Index and Columns:\n",
            "DatetimeIndex(['2023-10-01', '2023-10-02', '2023-10-03', '2023-10-04',\n",
            "               '2023-10-05', '2023-10-06'],\n",
            "              dtype='datetime64[ns]', freq='D')\n",
            "Index(['A', 'B', 'C', 'D'], dtype='object')\n",
            "========================================\n"
          ]
        }
      ]
    },
    {
      "cell_type": "code",
      "source": [
        "# Selection\n",
        "print(\"Selection:\")\n",
        "print(\"Selecting a column (A):\")\n",
        "print(df['A'])\n",
        "print(\"\\nSelecting by label (row 0):\")\n",
        "print(df.loc[dates[0]])\n",
        "print(\"\\nSelecting by postion (row 1):\")\n",
        "print(df.iloc[1])\n",
        "print(\"\\nSelecting a subset of rows and columns:\")\n",
        "print(df.loc[dates[1:3], ['A', 'B']])\n",
        "print(\"=\"*40)"
      ],
      "metadata": {
        "colab": {
          "base_uri": "https://localhost:8080/"
        },
        "id": "Pix1TN0mRBAb",
        "outputId": "e088ab20-cd9a-4f02-8d6d-3dda687d0765"
      },
      "execution_count": null,
      "outputs": [
        {
          "output_type": "stream",
          "name": "stdout",
          "text": [
            "Selection:\n",
            "Selecting a column (A):\n",
            "2023-10-01   -1.153008\n",
            "2023-10-02    0.310892\n",
            "2023-10-03   -1.197802\n",
            "2023-10-04    1.900781\n",
            "2023-10-05   -0.082422\n",
            "2023-10-06    1.476036\n",
            "Freq: D, Name: A, dtype: float64\n",
            "\n",
            "Selecting by label (row 0):\n",
            "A   -1.153008\n",
            "B    0.357651\n",
            "C    0.858009\n",
            "D   -1.045246\n",
            "Name: 2023-10-01 00:00:00, dtype: float64\n",
            "\n",
            "Selecting by postion (row 1):\n",
            "A    0.310892\n",
            "B   -0.529373\n",
            "C   -0.552981\n",
            "D   -0.977189\n",
            "Name: 2023-10-02 00:00:00, dtype: float64\n",
            "\n",
            "Selecting a subset of rows and columns:\n",
            "                   A         B\n",
            "2023-10-02  0.310892 -0.529373\n",
            "2023-10-03 -1.197802 -0.993879\n",
            "========================================\n"
          ]
        }
      ]
    },
    {
      "cell_type": "code",
      "source": [
        "# Missing Data\n",
        "df1 = df.reindex(index=dates[0:4], columns=list(df.columns) + ['E'])\n",
        "df1.loc[dates[0]:dates[1], 'E'] = 1\n",
        "\n",
        "print(\"Missing Data:\")\n",
        "print(\"DataFrame with missing data:\")\n",
        "print(df1)\n",
        "print(\"\\nDropping rows with missing values:\")\n",
        "print(df1.dropna()) # menghilangkan baris\n",
        "print(\"\\nFilling missing values:\")\n",
        "print(df1.fillna(value=0)) # missing value diubah menjadi nilai\n",
        "print(\"=\"*60)"
      ],
      "metadata": {
        "colab": {
          "base_uri": "https://localhost:8080/"
        },
        "id": "MD6ID7iQSSFj",
        "outputId": "e8e444d8-3b3b-43ac-9776-18a9bfb8e1b1"
      },
      "execution_count": null,
      "outputs": [
        {
          "output_type": "stream",
          "name": "stdout",
          "text": [
            "Missing Data:\n",
            "DataFrame with missing data:\n",
            "                   A         B         C         D    E\n",
            "2023-10-01 -1.153008  0.357651  0.858009 -1.045246  1.0\n",
            "2023-10-02  0.310892 -0.529373 -0.552981 -0.977189  1.0\n",
            "2023-10-03 -1.197802 -0.993879 -1.043120  0.189995  NaN\n",
            "2023-10-04  1.900781 -2.239364 -0.388517  0.859291  NaN\n",
            "\n",
            "Dropping rows with missing values:\n",
            "                   A         B         C         D    E\n",
            "2023-10-01 -1.153008  0.357651  0.858009 -1.045246  1.0\n",
            "2023-10-02  0.310892 -0.529373 -0.552981 -0.977189  1.0\n",
            "\n",
            "Filling missing values:\n",
            "                   A         B         C         D    E\n",
            "2023-10-01 -1.153008  0.357651  0.858009 -1.045246  1.0\n",
            "2023-10-02  0.310892 -0.529373 -0.552981 -0.977189  1.0\n",
            "2023-10-03 -1.197802 -0.993879 -1.043120  0.189995  0.0\n",
            "2023-10-04  1.900781 -2.239364 -0.388517  0.859291  0.0\n",
            "============================================================\n"
          ]
        }
      ]
    },
    {
      "cell_type": "code",
      "source": [
        "# Operations\n",
        "print(\"Operations:\")\n",
        "print(\"Mean of each column:\")\n",
        "print(df.mean())\n",
        "print(\"\\nSum of each row:\")\n",
        "print(df.sum(axis=1))\n",
        "print(\"=\"*40)"
      ],
      "metadata": {
        "colab": {
          "base_uri": "https://localhost:8080/"
        },
        "id": "x32Pz1G4SQgQ",
        "outputId": "65782f99-88f8-4a90-8e68-11adf5234af3"
      },
      "execution_count": null,
      "outputs": [
        {
          "output_type": "stream",
          "name": "stdout",
          "text": [
            "Operations:\n",
            "Mean of each column:\n",
            "A    0.209079\n",
            "B   -0.526842\n",
            "C   -0.070106\n",
            "D    0.235338\n",
            "dtype: float64\n",
            "\n",
            "Sum of each row:\n",
            "2023-10-01   -0.982595\n",
            "2023-10-02   -1.748651\n",
            "2023-10-03   -3.044807\n",
            "2023-10-04    0.132191\n",
            "2023-10-05    2.225670\n",
            "2023-10-06    2.503010\n",
            "Freq: D, dtype: float64\n",
            "========================================\n"
          ]
        }
      ]
    },
    {
      "cell_type": "code",
      "source": [
        "# Merge\n",
        "left = pd.DataFrame({'key': ['K0', 'K1', 'K2', 'K3'], 'A': ['A0', 'A1', 'A2', 'A3'],\n",
        "                     'B': ['B0', 'B1', 'B2', 'B3']})\n",
        "right = pd.DataFrame({'key': ['K0', 'K1', 'K2', 'K3'], 'C': ['C0', 'C1', 'C2', 'C3'],\n",
        "                     'D': ['D0', 'D1', 'D2', 'D3']})\n",
        "merge_df = pd.merge(left, right, on='key')\n",
        "\n",
        "print(\"Merge:\")\n",
        "print(\"Merged DataFrame:\")\n",
        "print(merge_df)\n",
        "print(\"=\"*40)"
      ],
      "metadata": {
        "id": "oMdCbHGwTx1i",
        "colab": {
          "base_uri": "https://localhost:8080/"
        },
        "outputId": "146a78e1-fda3-4299-f3d3-87eee525570d"
      },
      "execution_count": null,
      "outputs": [
        {
          "output_type": "stream",
          "name": "stdout",
          "text": [
            "Merge:\n",
            "Merged DataFrame:\n",
            "  key   A   B   C   D\n",
            "0  K0  A0  B0  C0  D0\n",
            "1  K1  A1  B1  C1  D1\n",
            "2  K2  A2  B2  C2  D2\n",
            "3  K3  A3  B3  C3  D3\n",
            "========================================\n"
          ]
        }
      ]
    },
    {
      "cell_type": "code",
      "source": [
        "# Grouping\n",
        "grouped =df.groupby('A').sum()\n",
        "\n",
        "print(\"Grouping:\")\n",
        "print(\"Grouped DataFrame:\")\n",
        "print(grouped)\n",
        "print(\"=\"*40)"
      ],
      "metadata": {
        "colab": {
          "base_uri": "https://localhost:8080/"
        },
        "id": "dvMq7qdeVuOO",
        "outputId": "92d46771-736b-476f-96cc-48b01f514b21"
      },
      "execution_count": null,
      "outputs": [
        {
          "output_type": "stream",
          "name": "stdout",
          "text": [
            "Grouping:\n",
            "Grouped DataFrame:\n",
            "                  B         C         D\n",
            "A                                      \n",
            "-1.197802 -0.993879 -1.043120  0.189995\n",
            "-1.153008  0.357651  0.858009 -1.045246\n",
            "-0.082422  0.765287  0.540397  1.002408\n",
            " 0.310892 -0.529373 -0.552981 -0.977189\n",
            " 1.476036 -0.521376  0.165579  1.382770\n",
            " 1.900781 -2.239364 -0.388517  0.859291\n",
            "========================================\n"
          ]
        }
      ]
    },
    {
      "cell_type": "code",
      "source": [
        "# Reshaping\n",
        "stacked = df.stack()\n",
        "unstacked = stacked.unstack()\n",
        "\n",
        "print(\"Reshaping:\")\n",
        "print(\"Stacked DataFrame:\")\n",
        "print(stacked)\n",
        "print(\"\\nUnstacked DataFrame:\")\n",
        "print(unstacked)\n",
        "print(\"=\"*40)"
      ],
      "metadata": {
        "colab": {
          "base_uri": "https://localhost:8080/"
        },
        "id": "YRSgySpSWdfP",
        "outputId": "4e1bf822-9816-4537-d8d4-a5a5309533aa"
      },
      "execution_count": null,
      "outputs": [
        {
          "output_type": "stream",
          "name": "stdout",
          "text": [
            "Reshaping:\n",
            "Stacked DataFrame:\n",
            "2023-10-01  A   -1.153008\n",
            "            B    0.357651\n",
            "            C    0.858009\n",
            "            D   -1.045246\n",
            "2023-10-02  A    0.310892\n",
            "            B   -0.529373\n",
            "            C   -0.552981\n",
            "            D   -0.977189\n",
            "2023-10-03  A   -1.197802\n",
            "            B   -0.993879\n",
            "            C   -1.043120\n",
            "            D    0.189995\n",
            "2023-10-04  A    1.900781\n",
            "            B   -2.239364\n",
            "            C   -0.388517\n",
            "            D    0.859291\n",
            "2023-10-05  A   -0.082422\n",
            "            B    0.765287\n",
            "            C    0.540397\n",
            "            D    1.002408\n",
            "2023-10-06  A    1.476036\n",
            "            B   -0.521376\n",
            "            C    0.165579\n",
            "            D    1.382770\n",
            "dtype: float64\n",
            "\n",
            "Unstacked DataFrame:\n",
            "                   A         B         C         D\n",
            "2023-10-01 -1.153008  0.357651  0.858009 -1.045246\n",
            "2023-10-02  0.310892 -0.529373 -0.552981 -0.977189\n",
            "2023-10-03 -1.197802 -0.993879 -1.043120  0.189995\n",
            "2023-10-04  1.900781 -2.239364 -0.388517  0.859291\n",
            "2023-10-05 -0.082422  0.765287  0.540397  1.002408\n",
            "2023-10-06  1.476036 -0.521376  0.165579  1.382770\n",
            "========================================\n"
          ]
        }
      ]
    },
    {
      "cell_type": "code",
      "source": [
        "# Time Series\n",
        "ts = pd.Series(np.random.randn(1000), index=pd.date_range('2023-01-01', periods=1000))\n",
        "cumulative_sum = ts.cumsum()\n",
        "\n",
        "print(\"Time Series:\")\n",
        "print(ts.head())\n",
        "print(\"\\nCumulative Sum:\")\n",
        "print(cumulative_sum.head())\n",
        "print(\"=\"*40)"
      ],
      "metadata": {
        "colab": {
          "base_uri": "https://localhost:8080/"
        },
        "id": "NCE8d0PyW78R",
        "outputId": "a65b0ea5-6249-4f06-a52b-2bc890cea422"
      },
      "execution_count": null,
      "outputs": [
        {
          "output_type": "stream",
          "name": "stdout",
          "text": [
            "Time Series:\n",
            "2023-01-01    0.749122\n",
            "2023-01-02   -0.589272\n",
            "2023-01-03   -0.433289\n",
            "2023-01-04   -0.493225\n",
            "2023-01-05   -0.890253\n",
            "Freq: D, dtype: float64\n",
            "\n",
            "Cumulative Sum:\n",
            "2023-01-01    0.749122\n",
            "2023-01-02    0.159849\n",
            "2023-01-03   -0.273440\n",
            "2023-01-04   -0.766664\n",
            "2023-01-05   -1.656917\n",
            "Freq: D, dtype: float64\n",
            "========================================\n"
          ]
        }
      ]
    },
    {
      "cell_type": "code",
      "source": [
        "# Categoricals\n",
        "import pandas as pd\n",
        "\n",
        "# Create a categorical Series\n",
        "s = pd.Series([\"cat\", \"dog\", \"bird\", \"cat\", \"dog\"], dtype=\"category\")\n",
        "\n",
        "# Definr new categories\n",
        "new_categories = [\"category 1\", \"category 2\", \"category 3\"]\n",
        "\n",
        "# Create a new categorical Series with the new categories\n",
        "s_new = s.cat.set_categories(new_categories)\n",
        "\n",
        "print(\"Categoricals:\")\n",
        "print(\"Original Categorical Series:\")\n",
        "print(s)\n",
        "print(\"\\nNew Categorical Series with updated Categories:\")\n",
        "print(s_new)"
      ],
      "metadata": {
        "colab": {
          "base_uri": "https://localhost:8080/"
        },
        "id": "72bS_TG6YLwC",
        "outputId": "a74ff5f5-8d48-4da4-f768-a7bcc2e92daf"
      },
      "execution_count": null,
      "outputs": [
        {
          "output_type": "stream",
          "name": "stdout",
          "text": [
            "Categoricals:\n",
            "Original Categorical Series:\n",
            "0     cat\n",
            "1     dog\n",
            "2    bird\n",
            "3     cat\n",
            "4     dog\n",
            "dtype: category\n",
            "Categories (3, object): ['bird', 'cat', 'dog']\n",
            "\n",
            "New Categorical Series with updated Categories:\n",
            "0    NaN\n",
            "1    NaN\n",
            "2    NaN\n",
            "3    NaN\n",
            "4    NaN\n",
            "dtype: category\n",
            "Categories (3, object): ['category 1', 'category 2', 'category 3']\n"
          ]
        }
      ]
    },
    {
      "cell_type": "code",
      "source": [
        "import matplotlib.pyplot as plt\n",
        "\n",
        "# plotting\n",
        "df.plot()\n",
        "plt.show()\n",
        "\n",
        "print(\"Plotting\")\n",
        "print(\"=\"*40)"
      ],
      "metadata": {
        "colab": {
          "base_uri": "https://localhost:8080/",
          "height": 498
        },
        "id": "GdAm3XTcZXvm",
        "outputId": "c2d4ea17-079e-4798-e101-9bb2892b08ee"
      },
      "execution_count": null,
      "outputs": [
        {
          "output_type": "display_data",
          "data": {
            "text/plain": [
              "<Figure size 640x480 with 1 Axes>"
            ],
            "image/png": "[encoded data removed]"
          },
          "metadata": {}
        },
        {
          "output_type": "stream",
          "name": "stdout",
          "text": [
            "Plotting\n",
            "========================================\n"
          ]
        }
      ]
    },
    {
      "cell_type": "code",
      "source": [
        "# Importing and Exporting Data\n",
        "imported_df = pd.read_csv('sample_data.csv')\n",
        "\n",
        "print(\"Importing and Exporting Data:\")\n",
        "print(\"Exported DataFrame to CSV:\")\n",
        "print(df)\n",
        "print(\"\\nImported DataFrame from CSV:\")\n",
        "print(imported_df)\n",
        "print(\"=\"*40)\n",
        "df.to_csv('sampel_data2.csv')"
      ],
      "metadata": {
        "colab": {
          "base_uri": "https://localhost:8080/"
        },
        "id": "NaKtlrTgZyHX",
        "outputId": "56640f64-06d2-4179-8726-77dfcc719712"
      },
      "execution_count": null,
      "outputs": [
        {
          "output_type": "stream",
          "name": "stdout",
          "text": [
            "Importing and Exporting Data:\n",
            "Exported DataFrame to CSV:\n",
            "                   A         B         C         D\n",
            "2023-10-01 -1.153008  0.357651  0.858009 -1.045246\n",
            "2023-10-02  0.310892 -0.529373 -0.552981 -0.977189\n",
            "2023-10-03 -1.197802 -0.993879 -1.043120  0.189995\n",
            "2023-10-04  1.900781 -2.239364 -0.388517  0.859291\n",
            "2023-10-05 -0.082422  0.765287  0.540397  1.002408\n",
            "2023-10-06  1.476036 -0.521376  0.165579  1.382770\n",
            "\n",
            "Imported DataFrame from CSV:\n",
            "    SUBJECT Stim1 Stim2  Response\n",
            "0         1     B     D         5\n",
            "1         1     A     B         1\n",
            "2         1     B     C         7\n",
            "3         2     A     C         3\n",
            "4         2     A     B         2\n",
            "5         2     B     C         6\n",
            "6         3     B     C         6\n",
            "7         3     C     D         5\n",
            "8         3     A     B         3\n",
            "9         4     B     D         2\n",
            "10        4     A     D         2\n",
            "11        4     B     C         5\n",
            "12        5     C     D         6\n",
            "13        5     A     D         1\n",
            "14        5     A     B         2\n",
            "15        6     A     B         2\n",
            "16        6     A     D         2\n",
            "17        6     B     D         3\n",
            "18        7     A     D         1\n",
            "19        7     B     D         5\n",
            "20        7     A     B         1\n",
            "21        8     C     D         5\n",
            "22        8     A     C         4\n",
            "23        8     A     B         3\n",
            "24        9     A     D         2\n",
            "25        9     A     B         1\n",
            "26        9     C     D         5\n",
            "27       10     A     C         5\n",
            "28       10     B     C         7\n",
            "29       10     A     B         2\n",
            "========================================\n"
          ]
        }
      ]
    }
  ]
}